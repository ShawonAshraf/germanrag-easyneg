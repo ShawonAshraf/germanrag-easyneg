{
 "cells": [
  {
   "cell_type": "code",
   "execution_count": null,
   "metadata": {},
   "outputs": [],
   "source": [
    "import torch\n",
    "from datasets import load_dataset\n",
    "\n",
    "DATASET_NAME = \"DiscoResearch/germanrag\"\n",
    "\n",
    "dataset = load_dataset(DATASET_NAME, split=\"train\")"
   ]
  },
  {
   "cell_type": "code",
   "execution_count": 145,
   "metadata": {},
   "outputs": [
    {
     "name": "stdout",
     "output_type": "stream",
     "text": [
      "dict_keys(['contexts', 'question', 'answer', 'positive_ctx_idx'])\n"
     ]
    }
   ],
   "source": [
    "print(dataset[0].keys())"
   ]
  },
  {
   "cell_type": "code",
   "execution_count": null,
   "metadata": {},
   "outputs": [],
   "source": [
    "from tqdm.autonotebook import tqdm\n",
    "# find unique contexts\n",
    "unique_contexts = set()\n",
    "for _, d in tqdm(enumerate(dataset)):\n",
    "    for ctx in d[\"contexts\"]:\n",
    "        unique_contexts.add(ctx)"
   ]
  },
  {
   "cell_type": "code",
   "execution_count": 124,
   "metadata": {},
   "outputs": [],
   "source": [
    "from langchain_community.vectorstores import Chroma\n",
    "from langchain.text_splitter import CharacterTextSplitter\n",
    "from langchain_community.vectorstores import chroma\n",
    "# need to load a german model actually.\n",
    "from langchain_community.embeddings import HuggingFaceEmbeddings\n",
    "\n",
    "text_splitter = CharacterTextSplitter()\n",
    "chunks = [text_splitter.split_text(uc) for uc in unique_contexts]"
   ]
  },
  {
   "cell_type": "code",
   "execution_count": 78,
   "metadata": {},
   "outputs": [
    {
     "data": {
      "application/vnd.jupyter.widget-view+json": {
       "model_id": "7b65385772334b8e8e5ffe5fbf399840",
       "version_major": 2,
       "version_minor": 0
      },
      "text/plain": [
       "modules.json:   0%|          | 0.00/341 [00:00<?, ?B/s]"
      ]
     },
     "metadata": {},
     "output_type": "display_data"
    },
    {
     "data": {
      "application/vnd.jupyter.widget-view+json": {
       "model_id": "1f81a71b503c43769a20482ccd10c6dc",
       "version_major": 2,
       "version_minor": 0
      },
      "text/plain": [
       "config_sentence_transformers.json:   0%|          | 0.00/122 [00:00<?, ?B/s]"
      ]
     },
     "metadata": {},
     "output_type": "display_data"
    },
    {
     "data": {
      "application/vnd.jupyter.widget-view+json": {
       "model_id": "309e1864e52243b99b67af68d4904063",
       "version_major": 2,
       "version_minor": 0
      },
      "text/plain": [
       "README.md:   0%|          | 0.00/2.69k [00:00<?, ?B/s]"
      ]
     },
     "metadata": {},
     "output_type": "display_data"
    },
    {
     "data": {
      "application/vnd.jupyter.widget-view+json": {
       "model_id": "01ab1a6de1964c2f88624f9bcf09fedd",
       "version_major": 2,
       "version_minor": 0
      },
      "text/plain": [
       "sentence_bert_config.json:   0%|          | 0.00/53.0 [00:00<?, ?B/s]"
      ]
     },
     "metadata": {},
     "output_type": "display_data"
    },
    {
     "data": {
      "application/vnd.jupyter.widget-view+json": {
       "model_id": "db2662e4c2684c11bcbb43cf504e1f4a",
       "version_major": 2,
       "version_minor": 0
      },
      "text/plain": [
       "config.json:   0%|          | 0.00/610 [00:00<?, ?B/s]"
      ]
     },
     "metadata": {},
     "output_type": "display_data"
    },
    {
     "data": {
      "application/vnd.jupyter.widget-view+json": {
       "model_id": "73543a1cff2c45cd8a6fd6d90764575a",
       "version_major": 2,
       "version_minor": 0
      },
      "text/plain": [
       "pytorch_model.bin:   0%|          | 0.00/539M [00:00<?, ?B/s]"
      ]
     },
     "metadata": {},
     "output_type": "display_data"
    },
    {
     "data": {
      "application/vnd.jupyter.widget-view+json": {
       "model_id": "f852089e9d3842579f1668b6baf24729",
       "version_major": 2,
       "version_minor": 0
      },
      "text/plain": [
       "tokenizer_config.json:   0%|          | 0.00/531 [00:00<?, ?B/s]"
      ]
     },
     "metadata": {},
     "output_type": "display_data"
    },
    {
     "data": {
      "application/vnd.jupyter.widget-view+json": {
       "model_id": "cf88a47e96e349a9849cb1d973360290",
       "version_major": 2,
       "version_minor": 0
      },
      "text/plain": [
       "vocab.txt:   0%|          | 0.00/996k [00:00<?, ?B/s]"
      ]
     },
     "metadata": {},
     "output_type": "display_data"
    },
    {
     "data": {
      "application/vnd.jupyter.widget-view+json": {
       "model_id": "3dd873afd5d74e72a26fc49d8f0a7792",
       "version_major": 2,
       "version_minor": 0
      },
      "text/plain": [
       "tokenizer.json:   0%|          | 0.00/1.96M [00:00<?, ?B/s]"
      ]
     },
     "metadata": {},
     "output_type": "display_data"
    },
    {
     "data": {
      "application/vnd.jupyter.widget-view+json": {
       "model_id": "28258fa79977473dba6716e36dd5492e",
       "version_major": 2,
       "version_minor": 0
      },
      "text/plain": [
       "special_tokens_map.json:   0%|          | 0.00/112 [00:00<?, ?B/s]"
      ]
     },
     "metadata": {},
     "output_type": "display_data"
    },
    {
     "data": {
      "application/vnd.jupyter.widget-view+json": {
       "model_id": "bcc46c90a9294fba8a2ca2026323a854",
       "version_major": 2,
       "version_minor": 0
      },
      "text/plain": [
       "1_Pooling/config.json:   0%|          | 0.00/190 [00:00<?, ?B/s]"
      ]
     },
     "metadata": {},
     "output_type": "display_data"
    },
    {
     "data": {
      "application/vnd.jupyter.widget-view+json": {
       "model_id": "4244e085ff0e4c2999029f98f09a3377",
       "version_major": 2,
       "version_minor": 0
      },
      "text/plain": [
       "2_Dense/config.json:   0%|          | 0.00/114 [00:00<?, ?B/s]"
      ]
     },
     "metadata": {},
     "output_type": "display_data"
    },
    {
     "data": {
      "application/vnd.jupyter.widget-view+json": {
       "model_id": "c33fb28fad2c407382bb8f3dc8799e74",
       "version_major": 2,
       "version_minor": 0
      },
      "text/plain": [
       "pytorch_model.bin:   0%|          | 0.00/1.58M [00:00<?, ?B/s]"
      ]
     },
     "metadata": {},
     "output_type": "display_data"
    }
   ],
   "source": [
    "hf_embedding = HuggingFaceEmbeddings(\n",
    "    model_name=\"sentence-transformers/distiluse-base-multilingual-cased-v2\",\n",
    "    model_kwargs = {'device': 'cuda'}\n",
    ")"
   ]
  },
  {
   "cell_type": "code",
   "execution_count": 79,
   "metadata": {},
   "outputs": [],
   "source": [
    "db = Chroma.from_texts(list(unique_contexts), hf_embedding, persist_directory=\".\")"
   ]
  },
  {
   "cell_type": "code",
   "execution_count": 80,
   "metadata": {},
   "outputs": [
    {
     "data": {
      "text/plain": [
       "'In Deutschland glauben 75 % der befragten Katholiken und 67 % der Protestanten an einen Gott.'"
      ]
     },
     "execution_count": 80,
     "metadata": {},
     "output_type": "execute_result"
    }
   ],
   "source": [
    "answer = dataset[0][\"answer\"]\n",
    "answer"
   ]
  },
  {
   "cell_type": "code",
   "execution_count": 127,
   "metadata": {},
   "outputs": [],
   "source": [
    "relevant_docs = db.similarity_search_with_relevance_scores(answer, k=25)"
   ]
  },
  {
   "cell_type": "code",
   "execution_count": 128,
   "metadata": {},
   "outputs": [
    {
     "data": {
      "text/plain": [
       "[(Document(page_content='Straubing\\n\\n=== Konfessionsstatistik ===\\nGemäß der Volkszählung 2011 waren 13,7 % der Einwohner evangelisch, 63,9 % römisch-katholisch und 22,4 % waren konfessionslos, gehörten einer anderen Religionsgemeinschaft an oder machten keine Angabe. Die Zahl der Protestanten und vor allem die der Katholiken ist seitdem gesunken. Laut Statistischem Bericht 2019 der Stadt Straubing waren Ende 2018 56,4 % der Bevölkerung römisch-katholisch, 10,7 % evangelisch und 32,9 % gehörten einer anderen oder keiner Glaubensgemeinschaft an. Die Mitgliederzahlen der Konfessionen erreichten 2019 einen neuen Tiefpunkt. Die Zahl der Katholiken war erstmals unter 55 % gesunken und 10,4 % der Straubinger waren evangelisch.'),\n",
       "  0.46798024695328766),\n",
       " (Document(page_content='Paris\\n\\n=== Religionen ===\\nEtwa 65 % der Einwohner sind getauft, rund 60 % bekennen sich zum römisch-katholischen Glauben, die meisten praktizieren den lateinischen Ritus, einige wenige auch den armenischen und ukrainischen Ritus. Der Erzbischof von Paris ist auch für die Katholiken der östlichen Riten zuständig. Insgesamt gibt es in Paris innerhalb der politischen Grenzen der Stadt 94 katholische Gemeinden, des Weiteren 73 protestantische Kirchen der verschiedensten Konfessionen, 15 griechisch- und russisch-orthodoxe Kirchen, sechs rumänisch-orthodoxe Kirchen, sieben Synagogen für die etwa 220.000 Juden und 19 Moscheen für die rund 80.000 Muslime, überwiegend Sunniten. Nur knapp 12 % der Christen und etwa 15 % der Juden sind praktizierende Gläubige.'),\n",
       "  0.4527544029007876),\n",
       " (Document(page_content=\"Religionen_in_Deutschland\\n\\n=== Baptisten ===\\nOrganisiert sind die autonomen Baptistengemeinden in Deutschland im Bund Evangelisch-Freikirchlicher Gemeinden. Daneben gibt es sogenannte ''Freie Baptistengemeinden'', die keinem übergeordneten Bund angehören und lediglich lockeren Kontakt untereinander pflegen. Dazu gehören unter anderem die Reformierten Baptisten, die Bibel-Baptisten, sowie eine größere Anzahl von Baptistengemeinden mit russlanddeutschem Hintergrund.\\nDie Baptisten existieren seit 1834 in Deutschland. Der Baptismus verbreitete sich in Deutschland und Kontinentaleuropa vor allem durch den aus Varel stammenden Kaufmann und späteren Baptistenprediger Johann Gerhard Oncken, der in einer methodistischen Gemeinde in England seine Bekehrung erlebt hatte.\\nSeit der Öffnung des Eisernen Vorhangs wanderten viele Deutsche aus den Staaten der ehemaligen Sowjetunion nach Deutschland ein (Russlanddeutsche, Kasachstandeutsche, Kirgisistandeutsche). Zu einem größeren Teil waren sie Evangeliumschristen-Baptisten. Eine Integration in die bestehenden deutschen Gemeinden gelang nur in der Anfangsphase. Sie gründeten alsbald eigene Gemeinden und verschiedene übergemeindliche Zusammenschlüsse. Allerdings gibt es auch in einheimischen Baptistengemeinden Russlanddeutsche, die dort auf Dauer eine geistliche Heimat gefunden haben.\\nSeit der Nachkriegszeit finden sich in Deutschland auch amerikanische Baptistengemeinden, die von Helfern oder Soldaten der U.S. Army gegründet wurden. Sie sind zum Teil assoziierte Mitglieder des deutschen Bundes Evangelisch-Freikirchlicher Gemeinden und Vollmitglieder der Europäisch-Baptistischen Föderation.\"),\n",
       "  0.3712969780495402),\n",
       " (Document(page_content='Zentralafrikanische_Republik\\n\\n=== Religionen ===\\nGemäß der Volkszählung 2003 sind nur noch rund 9,6 % der Einwohner offiziell Anhänger der indigenen Glaubensrichtungen. Christen bilden etwa 50 % der Bevölkerung; sie sind etwa zur Hälfte evangelisch und katholisch und besonders stark vertreten an der Grenze zur Demokratischen Republik Kongo. Der sunnitische Islam wird von 10,1 % der Bevölkerung praktiziert (mit zunehmender Tendenz) und ist vor allem im Norden, Osten und Nordwesten verbreitet.\\nSeit der Kolonialzeit agieren viele Missionarsgruppen im Land, vor allem Lutheraner und Katholiken, aber auch Baptisten, Grace Brethren und Zeugen Jehovas. Während diese Missionare vorherrschend aus Frankreich, den Vereinigten Staaten, Italien und Spanien kommen, stammen viele Missionare auch aus Nigeria, der Demokratischen Republik Kongo und anderen schwarzafrikanischen Ländern. Viele westliche Missionare verließen das Land in den Jahren 2002/2003 aufgrund von Kämpfen zwischen Rebellen und Regierungstruppen.'),\n",
       "  0.36501052271304923),\n",
       " (Document(page_content='Gott\\n\\n=== Demografie ===\\nEine Zusammenfassung von Umfrageergebnissen aus verschiedenen Staaten ergab im Jahr 2007, dass es weltweit zwischen 505 und 749 Millionen Atheisten und Agnostiker gibt. Laut der Encyclopædia Britannica gab es 2009 weltweit 640 Mio. Nichtreligiöse und Agnostiker (9,4 %), und weitere 139 Mio. Atheisten (2,0 %), hauptsächlich in der Volksrepublik China.\\nBei einer Eurobarometer-Umfrage im Jahr 2005 wurde festgestellt, dass 52 % der damaligen EU-Bevölkerung glaubt, dass es einen Gott gibt. Eine vagere Frage nach dem Glauben an „eine andere spirituelle Kraft oder Lebenskraft“ wurde von weiteren 27 % positiv beantwortet. Bezüglich der Gottgläubigkeit bestanden große Unterschiede zwischen den einzelnen europäischen Staaten. Die Umfrage ergab, dass der Glaube an Gott in Staaten mit starkem kirchlichen Einfluss am stärksten verbreitet ist, dass mehr Frauen (58 %) als Männer (45 %) an einen Gott glauben und dass der Gottglaube mit höherem Alter, geringerer Bildung und politisch rechtsgerichteten Ansichten korreliert.\\nLaut einer Befragung von 1003 Personen in Deutschland im März 2019 glauben 55 % an einen Gott; 2005 waren es 66 % gewesen. 75 % der befragten Katholiken sowie 67 % der Protestanten glaubten an einen Gott (2005: 85 % und 79 %). Unter Konfessionslosen ging die Glaubensquote von 28 auf 20 % zurück. Unter Frauen (60 %) war der Glauben 2019 stärker ausgeprägt als unter Männern (50 %), in Westdeutschland (63 %) weiter verbreitet als in Ostdeutschland (26 %).'),\n",
       "  0.3379814115882248),\n",
       " (Document(page_content=\"Baptisten_in_Deutschland\\n\\n=== Evangeliumschristen-Baptisten ===\\nBethaus einer Gemeinde der Evangeliumschristen-Baptisten\\nDie Evangeliumschristen-Baptisten sind größtenteils russlanddeutscher Herkunft. Sie sind im Jahr 1944 aus dem Zusammenschluss der Evangeliums-Christen mit den Baptisten entstanden. Später traten weitere evangelische Freikirchen hinzu. Im Gegensatz zu ihren osteuropäischen Herkunftsländern ist es in Deutschland zu keiner Gründung einer einheitlichen Union der Evangeliumschristen-Baptisten gekommen. Ein Teil der hier neu entstandenen Gemeinden hat sich in Gemeindeverbänden wie der Bruderschaft der Freien Evangeliums Christen Gemeinden oder der Arbeitsgemeinschaft evangelikaler Gemeinden zusammengefunden. Ein anderer Teil ist über die ''Arbeitsgemeinschaft der Evangeliumschristen-Baptisten'' im Bund Evangelisch-Freikirchlicher Gemeinden mit deutschen Baptisten verbunden oder ist mit Mennonitischen Brüdergemeinden im Bund Taufgesinnter Gemeinden zusammengeschlossen. Daneben gibt es auch Gemeinden außerhalb von Gemeindeverbänden.\"),\n",
       "  0.3260358146084792),\n",
       " (Document(page_content='Hannover\\n\\n==== Konfessionsstatistik ====\\nGemäß der Volkszählung 2011 waren 34,7 % der Einwohner evangelisch, 13,7 % römisch-katholisch und 51,6 % waren konfessionslos, gehörten einer anderen Religionsgemeinschaft an oder machten keine Angabe. Nach einer Berechnung aus den Zensuszahlen für die Personen mit Migrationshintergrund lag der Bevölkerungsanteil der Muslime in Hannover 2011 bei 8,8 % (rund 44.400 Personen).\\nEnde 2019 waren 28,5 % der Bevölkerung Hannovers evangelisch und 12,4 % katholisch. Die Mehrheit mit 59,1 % gehört keiner der beiden großen christlichen Konfessionen an.\\nEin Jahr vorher am 30. Juni 2018 waren 29,5 Prozent der Bevölkerung Hannovers evangelisch und 13,0 Prozent katholisch.'),\n",
       "  0.3017580076075974),\n",
       " (Document(page_content='Hannover\\n\\n==== Konfessionsstatistik ====\\nGemäß der Volkszählung 2011 waren im Jahr 2011 34,7 % der Einwohner evangelisch, 13,7 % römisch-katholisch und 51,6 % waren konfessionslos, gehörten einer anderen Religionsgemeinschaft an oder machten keine Angabe. Nach einer Berechnung aus den Zensuszahlen für die Personen mit Migrationshintergrund lag der Bevölkerungsanteil der Muslime in Hannover 2011 bei 8,8 % (rund 44.400 Personen).\\nEnde 2019 waren 28,5 % der Bevölkerung Hannovers evangelisch und 12,4 % katholisch. Die Mehrheit mit 59,1 % gehört keiner der beiden großen christlichen Konfessionen an.\\nEin Jahr vorher am 30. Juni 2018 waren 29,5 Prozent der Bevölkerung Hannovers evangelisch und 13,0 Prozent katholisch.'),\n",
       "  0.2958990477555524),\n",
       " (Document(page_content='Gott\\n\\n===== Unergründlichkeit =====\\nDie christliche Theologie unterscheidet drei Arten, etwas über Gott zu erfahren: Vernunft, Offenbarung und religiöse Erfahrung. In der natürlichen Theologie wird versucht, durch Vernunft und Beobachtung Aussagen über Gott zu treffen. Im Allgemeinen werden jedoch Götter zumindest teilweise als unergründlich betrachtet. Die Alur halten ihren Gott für „praktisch unerkennbar“, und die Lugbara geben zu, nicht viel über das Wesen ihres Gottes zu wissen, da er sich der menschlichen Vorstellung entzieht. Ähnliches wird auch im Islam behauptet: Der Mensch als begrenztes Wesen kann Gott, der frei von „Grenzen und Dimensionen“ ist, nicht wie andere Dinge begreifen. Søren Kierkegaard ging soweit, Gott als das Unergründliche zu definieren.'),\n",
       "  0.2890731970518191),\n",
       " (Document(page_content='Römisch-katholische_Kirche_in_Rumänien\\nLateinische Katholiken in Rumänien (Volkszählung 2002)\\nGriechische Katholiken in Rumänien (Volkszählung 2002)\\nDie römisch-katholische Kirche ist die zweitgrößte Konfession Rumäniens. Ihr gehören 5,4\\xa0% der Bevölkerung, somit gut 1 Mio. Menschen an. Ungleich größer ist dagegen die Rumänisch-Orthodoxe Kirche, zu der sich 86,5\\xa0% der Einwohner bekennen.\\nDie weitaus meisten rumänischen Katholiken (ca. 870.000) sind Mitglieder der Lateinischen Kirche, die traditionell unter den Angehörigen der ungarischen Bevölkerungsgruppe in Siebenbürgen stark vertreten ist. Etwa 150.000 gehören der Rumänischen griechisch-katholischen Kirche an, die im Zuge der katholischen Missionsbemühungen unter der orthodoxen Bevölkerung während der Habsburgerherrschaft in Siebenbürgen entstanden ist. Darüber hinaus hat die Armenisch-katholische Kirche einige hundert Mitglieder im Land. Alle drei Teilkirchen sind in Rumänien mit jeweils eigener Hierarchie vertreten. Ihre Bischöfe sind Mitglieder der Rumänischen Bischofskonferenz.\\nApostolischer Nuntius ist seit 2015 Miguel Maury Buendía.'),\n",
       "  0.28662513950291235),\n",
       " (Document(page_content=\"Kurden_im_deutschsprachigen_Raum\\n\\n== Religionen ==\\nUnter Kurden sind verschiedene Religionen und Glaubensrichtungen vertreten. Die Mehrheit der Kurden im deutschsprachigen Raum sind Muslime, sie machen etwa zwei Drittel aus. Daneben finden sich Aleviten, Jesiden, Yarsanis, Christen, Juden und Konfessionslose.\\nUnter den im deutschen Sprachraum, vor allem in Deutschland, lebenden Kurden sind der Großteil sunnitische Muslime, die der schafiitischen Rechtsschule folgen. Ein kleiner Teil der im deutschen Sprachraum lebenden Kurden sind sunnitische Muslime, die der hanafitischen Rechtsschule folgen. Ebenfalls vertreten sind Zwölfer-Schiiten wie Faili-Kurden und die aus der Schia hervorgegangenen Bajwan. Rund 40 Moscheen in Deutschland gehören dem islamischen Dachverband ''Islamische Gesellschaft Kurdistans'' (kurdisch ''Civaka Îslamiya Kurdistan'', abgekürzt ''CÎK'') an. Der Dachverband hat seinen Sitz in Hagen.\\nDie Zahl der kurdischen Aleviten in Deutschland wird auf ca. 175.000 geschätzt.\\nIn der Bundesrepublik Deutschland leben zwischen 150.000 und 200.000 Jesiden, davon 7.000 in der Stadt Celle und 1.300 in Oldenburg.\"),\n",
       "  0.28657683921451893),\n",
       " (Document(page_content='Deutscher_Idealismus\\n\\n===== Gottesbeweise =====\\nDie Kantische Kritik an den Gottesbeweisen zeigt für Hegel, dass es dem reflexiven Denken nicht möglich ist, das Wesen Gottes zu begreifen. Sie beruhe jedoch auf einem falschen Festhalten an der Vorstellung eines nur endlichen Erkennens.\\nHegel polemisiert gegen die Kantische Postulatenlehre, dass in ihr Gott vom Subjekt abhängig gemacht werde. Er betont, dass von Seiten Gottes der menschlichen Gotteserkenntnis nichts im Wege steht. Die Gottesbeweise sind für Hegel Weisen der Erhebung des menschlichen Geistes zu Gott, die in zweifacher Weise geschehen: Während der kosmologische und der physikotheologische Beweis vom endlichen Sein ausgehen, geht der ontologische Beweis von Gott aus und versteht sich als Erhebung des Menschen durch das entgegenkommende Wirken Gottes. Der ontologische Gottesbeweis ist für Hegel „allein der wahrhafte“, weil in ihm der Begriff Gottes mit dem Sein identifiziert wird. Der Begriff ist „das Sein, er hebt selbst seine Subjektivität auf und objektiviert sich“.'),\n",
       "  0.27028969536966596),\n",
       " (Document(page_content=\"Baptisten\\n\\n== Ökumene ==\\nDer ''Weltbund der Baptisten'' unterhält viele Kontakte zu anderen Kirchen, darunter Freikirchen, und internationalen Organisationen und ist auch in die Ökumenische Bewegung eingebunden. , heißt es in einer Bekenntnisschrift des BEFG. Er engagiert sich in der Deutschen Evangelischen Allianz und gehört zu den Gründungsmitgliedern der Arbeitsgemeinschaft Christlicher Kirchen in Deutschland. Er ist auch Mitglied der Vereinigung Evangelischer Freikirchen.\\nIn Österreich bilden die Baptisten gemeinsam mit dem Bund Evangelikaler Gemeinden, der Mennoniten, der Freien Christengemeinde (Pfingstgemeinde), und den Elaia Christengemeinden eine staatliche anerkannte Kirche. Die gemeinsame Kirche heißt seit 2013 „Freikirchen in Österreich“.\\nIn Italien gehören die Baptisten mit Lutheranern, Waldensern, Methodisten, der Heilsarmee und anderen zur ''Federazione delle chiese evangeliche in Italia''.\\nIn Schweden verabschiedeten Baptistenunion, Methodistenkirche und die reformierte Missionskirche im November 2007 eine „Absichtserklärung“, bis 2012 „eine neue gemeinsame Kirche zu bilden“. Die Kirche, die 2011 gegründet wurde, heißt seit 2013 Equmeniakyrkan\"),\n",
       "  0.267356949062884),\n",
       " (Document(page_content=\"Deutsche\\n\\n== Etymologie ==\\nDas Adjektiv ''diutisc'' oder ''theodisk'' bedeutete ursprünglich so viel wie „zum Volk gehörig“ oder „die Sprache des Volkes sprechend“ und wurde seit spätkarolingischer Zeit zur Bezeichnung der nicht-romanischsprechenden Bevölkerung des Frankenreichs, aber auch der Angelsachsen benutzt. Es entstand in Abgrenzung zum Latein der Priester wie auch zum ''walhisk'', der Bezeichnung für die Romanen, aus der das Wort ''Welsche'' entstanden ist.\\nErster Beleg für den Begriff ist eine Stelle aus der gotischen Bibelübersetzung des Wulfila um 360. Er bezeichnet die Nichtjuden, die heidnischen Völker, mit dem Adjektiv ''thiudisko''.\\nDie Sprache germanischer bzw. altdeutscher Stämme wurde erstmals mit ''diutisc'' oder ''theodisk'' bezeichnet in einem Brief des päpstlichen Nuntius Gregor von Ostia an Papst Hadrian I. über zwei Synoden, die 786 in England stattgefunden hatten. Im Brief hieß es wörtlich, dass die Konzilsbeschlüsse ''tam latine quam theodisce'' („auf Latein wie auch in der Volkssprache“) mitgeteilt wurden, „damit alle es verstehen könnten“ ''(quo omnes intellegere potuissent)''. In seiner (althoch-)deutschen Form ''diutsch'' bzw. ''tiutsch'' lässt es sich zuerst in den Schriften Notkers des Deutschen belegen.\\nErst seit dem 10.\\xa0Jahrhundert bürgerte sich die Anwendung des Wortes ''diutisc'' auf die Bewohner des Ostfrankenreichs ein, von dem heute der flächenmäßig größte Anteil zu Deutschland gehört.\"),\n",
       "  0.26681569923430704),\n",
       " (Document(page_content='Nordisch-Katholische_Kirche\\n\\n== Liturgie ==\\nMitte des liturgischen Lebens ist die Feier der Eucharistie, welche in ihrem Aufbau der Messfeier anderer altkatholischer Kirchen und der Liturgie der römisch-katholischen Kirche ähnelt. Als Eucharistiegebete werden u.\\xa0a. Variationen der Traditio Apostolica oder eine verkürzte Fassung des Hochgebets der Basiliusliturgie, jeweils in der Landessprache, verwendet, in Deutschland auch der römische Messkanon. Neben der Feier der Eucharistie kennt die Nordisch-Katholische Kirche das persönliche und gemeinschaftliche Stundengebet, sowie die Feier der Sakramente und Kasualien in katholischer Tradition. Im Gegensatz zur römisch-katholischen Kirche werden die Kinder üblicherweise (wie in den Kirchen der Orthodoxie) bereits bei ihrer Taufe gefirmt und mit der Eucharistie gespeist. Auch wird das Sakrament der Ehe nicht durch die Brautleute selbst, sondern durch den priesterlichen Segen gespendet. Somit ist die Feier der Trauung den Priestern vorbehalten und kann nicht durch einen Diakon geleitet werden. Die Nordisch-Katholische Kirche kann somit als Kirche mit orthodoxer Theologie und westlicher Liturgie bezeichnet werden.'),\n",
       "  0.2636959052138337),\n",
       " (Document(page_content='Kanton_Bern\\n\\n=== Religionen – Konfessionen ===\\n+ Religionen im Kanton Bern per 31.\\xa0Dezember 2012\\n Religionszugehörigkeit im Kanton Bern (Stand: 31. Dezember 2012)\\n andere christliche Glaubensgemeinschaften \\n andere Religionsgemeinschaften \\n Religion/Konfession unbekannt \\n Daneben gibt es im Kanton Bern vergleichsweise viele Mitglieder protestantischer Freikirchen, besonders im Berner Jura, im Emmental und im Berner Oberland, wo sich trotz zeitweilig intensiver staatlicher Verfolgung noch mennonitische Gemeinden halten konnten. Nach der Reformation im Jahr 1528 fasste ab 1799 auch die katholische Kirche wieder Fuss im Kanton.'),\n",
       "  0.2522794197702938),\n",
       " (Document(page_content=\"Strict_Baptists\\nDie Strict Baptists (deutsch etwa: strikte, strenge Baptisten) sind eine lose Vereinigung von Baptisten mit etwa 6000 Mitgliedern in Großbritannien. Manchmal wird die Bezeichnung ''Gospel Standard Baptists'' verwendet. Die einzelnen Gemeinden sind relativ selbständig, so dass es auch gewisse Unterschiede in Lehre und Praxis geben kann. Sie gehören zur calvinistischen Richtung der ''Particular Baptists'', die im Unterschied zu den ''General Baptists'' nicht von einem universalen Heilswillen Gottes ausgehen. Die gemeinsame Feier des Herrenmahls findet in geschlossener Form statt (''strict'' oder ''closed communion''), d.\\xa0h. nur die eigenen, getauften Mitglieder sind zugelassen. Diese ursprünglich sehr verbreitete enge Praxis wurde auch noch von Johann Gerhard Oncken (in Deutschland) aufrechterhalten, während Charles Haddon Spurgeon eine calvinistische Heilslehre mit einer offenen Herrenmahlpraxis verband. Ähnlich öffneten sich im 19. Jahrhundert viele Baptistengemeinden, und im 20. Jahrhundert standen im Kirchenleben andere Themen im Vordergrund, so dass sich diese enge Praxis nur noch bei einer kleinen Minderheit findet.\\nDas soziale Leben dieser Baptisten spielt sich zum größten Teil untereinander ab. Sonntäglich finden zwei Gottesdienste statt, in denen die Wortverkündigung zentral ist. Der Kirchenbesuch ist überdurchschnittlich.\\nÄhnliche Gruppen in den USA werden dort als ''Reformed Baptists'' oder ''Sovereign Grace Baptists'' bezeichnet.\"),\n",
       "  0.25202358839983263),\n",
       " (Document(page_content=\"Interpretatio_Romana\\nAls Interpretatio Romana (lat. etwa: „römische Übersetzung“) bezeichnet man die römische Sitte, fremde Gottheiten durch Identifikation mit römischen Gottheiten der eigenen Religion einzuverleiben.\\nDer Begriff geht zurück auf Tacitus, der in seiner ''Germania'' zwei germanische Gottheiten mit Castor und Pollux gleichsetzt. Vor allem in Weihinschriften wird das Verfahren häufig verwendet, oft stehen dabei der römische und der einheimische Name der Gottheit nebeneinander. Meist benutzten die Römer bestimmte Eigenschaften der fremden Götter, um sie mit einem ihnen bekannten Gott gleichzusetzen. Dabei wurden oft relativ wenige römische Götter benutzt, die eine Vielzahl von anderen Göttern assimilierten. Keltische Gottheiten etwa wurden meist mit Apollon, Mars und Mercurius gleichgesetzt. Diese Übertragungen machen es häufig schwer, die ursprünglichen Eigenschaften nichtrömischer Götter zu rekonstruieren.\"),\n",
       "  0.23423281358750514),\n",
       " (Document(page_content='Medienkritik__Kommunikationswissenschaft_\\n\\n=== Sinkendes Vertrauen in die Medien ===\\nEine 2010 europaweit durchgeführte repräsentative Befragung von 32.000 Personen, welchen Berufsgruppen sie am meisten vertrauen, zeigte, dass nur 27 Prozent der Menschen der Berufsgruppe der Journalisten vertrauen; sie lagen damit nur drei Plätze vor den Politikern.\\nIm Jahr 2013 zeigte eine Umfrage von Transparency International das Ausmaß der kritischen Haltung der Bevölkerung gegenüber den Medien: 54 Prozent der in Deutschland Befragten empfanden die Medien als korrupt.\\nSeit 2014 wird in Deutschland in sozialen Medien, der Blogosphere und in politischen Bewegungen wie Pegida der Begriff Lügenpresse als Ausdruck der Unzufriedenheit mit der medialen Berichterstattung instrumentalisiert.\\nIn der Umfrage „Trusted Brands 2015“ der Zeitschrift Reader’s Digest äußerten nur 26 Prozent der Umfrageteilnehmer in Deutschland, viel oder ziemlich viel Vertrauen zu Journalisten zu haben. 68 Prozent hatten wenig oder überhaupt kein Vertrauen zu diesem Berufsstand. Für Österreich und die Schweiz wurden ähnliche Werte (28 Prozent / 66 Prozent) ermittelt.\\n2016 fiel in den USA laut einer Gallup-Studie das seit Jahren kontinuierlich sinkende Vertrauen der amerikanischen Bevölkerung in die Medien auf den tiefsten Stand, der jemals gemessen wurde. Die Ursache für das erodierende Vertrauen in die Medien sieht Gallup vor allem im zunehmend meinungsgetriebenen Journalismus (opinion-driven writing). Rasmussens Reports zufolge war CNN 2017 für die amerikanischen Wähler der am wenigsten vertrauenswürdige Nachrichtensender'),\n",
       "  0.2328327795736702),\n",
       " (Document(page_content=\"Kirchenbezirk_Berlin-Brandenburg\\n Selbständige Evangelisch-Lutherische KircheKirchenbezirk Berlin-Brandenburg\\n Superintendent Peter Brückmann\\n Selbständige Evangelisch-Lutherische Kirche\\n Usedormer Straße 1113355 Berlin\\nDer Kirchenbezirk Berlin-Brandenburg ist ein Kirchenbezirk der Selbständigen Evangelisch-Lutherischen Kirche (SELK) und eine Körperschaft des öffentlichen Rechts. Der Name dieses Kirchenbezirkes lautete bis zur Vereinigung zwischen der evangelisch-lutherischen (altlutherischen) Kirche mit der Selbständigen Evangelisch-Lutherischen Kirche ''Berlin-Märkische Diözese''.\"),\n",
       "  0.22978682683178797),\n",
       " (Document(page_content='Römische_Religion\\n\\n== Römische Religion in der römischen Literatur ==\\nEinige auch heute noch vielgelesene römische Schriftsteller pflegten ein durchaus kritisches Verhältnis zur Religion. Irritierend sind vor allem die Zeugnisse des Marcus Tullius Cicero (106–43 v. Chr.) Als „Augur“ war er einerseits ein Priester von hohem staatsreligiösem Rang, der aus dem, was und wie die Vögel von einem eingemessenen Feld pickten, Hinweise für die richtigen Entscheidungen liefern sollte. Andererseits zweifelte er an der Existenz der Götter, empfahl jedoch die Aufrechterhaltung der kultischen Dienste wegen ihrer integrativen, den Staat und die Gesellschaft stützenden Funktion. Außerdem: Sollten die Götter doch existieren, wäre es gut, ihnen geopfert zu haben.\\nPublius Ovidus Naso (43 v. Chr.–17 n.\\xa0Chr.), schlicht als Ovid bekannt, beschreibt die Götter in seinen Metamorphosen explizit negativ. Ovid stellte das göttliche Wirken nicht als heilsbringend dar, sondern als destruktiv und zerstörerisch. Der harmlose Jäger Actaeon etwa, der zufällig die Jagdgöttin Diana nackt beim Baden sieht, wird in einen Hirsch verwandelt und von seinen eigenen Jagdhunden zerfleischt. Ovid setzte dem traditionellen Mythenglauben ein rationalistisches Welt- und Menschenbild entgegen.\\nLucius Annaeus Seneca (1–65 n. Chr.) hing der stoischen, schicksalsergebenen Philosophie an. Alles sei vorherbestimmt, religiöse Kulthandlungen der Menschen und die göttliche Gegenleistung der Heilserbringung liefen automatisiert oder programmiert ab, insbesondere der Mensch sei daher nicht frei in seinem Handeln, das damit weder falsch noch richtig sein könne.'),\n",
       "  0.22896808215261533),\n",
       " (Document(page_content='Hyderabad__Indien_\\n\\n=== Religionen ===\\nDie Mehrheit der Einwohner Hyderabads sind Hindus, daneben gibt es eine bedeutende muslimische Minderheit. Nach der Volkszählung 2011 sind 65 Prozent der Einwohner Hyderabads Hindus, und 30 Prozent Muslime. Vor allem in der Altstadt Hyderabads dominieren die Muslime. Knapp 3 Prozent der Bevölkerung sind Christen. Die Stadt ist Sitz des römisch-katholischen Erzbistums Hyderabad. 0,5 Prozent entfallen auf sonstige Religionen (Jainismus, Sikhismus, Buddhismus). Rund 1,5 Prozent der Einwohner Hyderabads gaben keine Religionszugehörigkeit an. 2001, also vor der Stadterweiterung, waren es im vorherigen kleineren Stadtgebiet 55 Prozent Hindus, 42 Prozent Muslime, 2,4 Prozent Christen und 1 Prozent Sonstige gewesen.'),\n",
       "  0.22638667197502005),\n",
       " (Document(page_content='Gott\\n\\n=== Nach Anzahl: Mono- und Polytheismus ===\\nOft wird zwischen polytheistischen Religionen, die mehrere Götter kennen, und monotheistischen Religionen mit nur einem Gott unterschieden. In der Kosmologie monotheistischer Religionen werden die polytheistischen Götter mit ihren unterschiedlichen Funktionen teils zu Attributen des einzigen Gottes zusammengefasst, teils tiefergestellten übernatürlichen Wesen wie Engeln und Heiligen übertragen.\\nIn vielen polytheistischen Religionen sind die Götter als Pantheon organisiert. In dieser heiligen Gemeinschaft gibt es eine Hierarchie, die sich aus den unterschiedlichen Funktionen der einzelnen Götter ergibt. Teilweise gibt es einen Herrscher über das Pantheon, wie zum Beispiel einen Vater aller Götter (so etwa El bei den Kanaanäern) oder eine Göttin mit Vormachtstellung (etwa Amaterasu im frühen Shintō). Religionen mit einem Hauptgott werden henotheistisch genannt. Philosophen wie Plato und die Stoiker sprachen gelegentlich von „Gott“ und „den Göttern“ unterschiedslos im selben Absatz.\\nDie Abgrenzung zwischen Mono- und Polytheismus ist nicht immer objektiv eindeutig, denn in manchen Religionen existiert ein Gott in mehreren Formen, beziehungsweise Hypostasen (Trimurti im Hinduismus, Trinität im Christentum, „Gott oben/unten“ bei den Bari, „Vater, Mutter, Sohn“ bei den Ndebele). Darüber hinaus können besondere Personen wie Maria (Mutter Jesu) oder Siddhartha Gautama zumindest im Rahmen der vergleichenden Religionswissenschaft oder aus dem Blickwinkel anderer Religionen als gottähnlich oder zusätzliche Götter betrachtet werden. Auch kann eine Religion insofern mono- und polytheistische Aspekte vereinen, als je nach Konfession und selbst je nach Anhänger unterschiedliche Gottesvorstellungen anzutreffen sind. Frühe Christen glaubten beispielsweise je nach Gruppierung an einen, zwei, 30 oder 365 verschiedene Götter, und Dreifaltigkeitslehren reichen vom Glauben an drei Götter (Tritheismus) bis zur Vorstellung, dass die drei nur verschiedene Aspekte eines Gottes sind (Modalismus). Alle drei abrahamitischen Religionen sind heute ausdrücklich monotheistisch.'),\n",
       "  0.2263564105377892),\n",
       " (Document(page_content='Gott\\n\\n==== Deismus ====\\nDas Wort „Deismus“ hat die gleiche Wortherkunft wie „Theismus“, wurde aber bereits bei seiner ersten bekannten Verwendung in der zweiten Hälfte des 16. Jahrhunderts mit abweichender Bedeutung verwendet. Von verschiedenen Denkern wurde die Bezeichnung unterschiedlich verwendet, sie hatte aber in jedem Fall einen unorthodoxen Beiklang, der sich von der etablierten Religion abgrenzte. Deisten vertraten im Allgemeinen einen undogmatischen Monotheismus und wiesen übernatürliche Offenbarungen zurück. Der Deismus hatte seine Blütezeit während der Aufklärung und war besonders im angloamerikanischen Raum verbreitet, wo Anthony Collins und Thomas Paine als bekannte Verfechter hervortraten. Im späten 18. und frühen 19. Jahrhundert etablierte sich eine weitere Bedeutung von Deismus als Glaube an einen Gott, der sich nach der Schöpfung zurückgezogen hat und seitdem nicht mehr in die Welt eingreift.'),\n",
       "  0.22594944056856803),\n",
       " (Document(page_content='Grün\\n\\n=== Christentum ===\\nIm Christentum ist Grün mit dem Bezug zum Frühlingsgrün die Farbe der Auferstehung, es ist die Osterfarbe. Noch weiter verallgemeinernd steht Grün in Irland für den Katholizismus und im Besonderen für den St. Patrick’s Day. Bischöfe führen in ihrem Wappen einen grünen Prälatenhut, weil die Bischofsfarbe bis 1867 grün war.\\nGrün ist außerdem eine liturgische Farbe. In der römisch-katholischen Kirche wird Grün seit dem Zweiten Vatikanischen Konzil in der Zeit im Jahreskreis getragen. Die evangelischen Kirchen verwenden Grün in der Epiphaniaszeit, der Vorfastenzeit und der Trinitatiszeit.'),\n",
       "  0.22581819528230507)]"
      ]
     },
     "execution_count": 128,
     "metadata": {},
     "output_type": "execute_result"
    }
   ],
   "source": [
    "relevant_docs"
   ]
  },
  {
   "cell_type": "code",
   "execution_count": 141,
   "metadata": {},
   "outputs": [
    {
     "data": {
      "text/plain": [
       "[(Document(page_content='Straubing\\n\\n=== Konfessionsstatistik ===\\nGemäß der Volkszählung 2011 waren 13,7 % der Einwohner evangelisch, 63,9 % römisch-katholisch und 22,4 % waren konfessionslos, gehörten einer anderen Religionsgemeinschaft an oder machten keine Angabe. Die Zahl der Protestanten und vor allem die der Katholiken ist seitdem gesunken. Laut Statistischem Bericht 2019 der Stadt Straubing waren Ende 2018 56,4 % der Bevölkerung römisch-katholisch, 10,7 % evangelisch und 32,9 % gehörten einer anderen oder keiner Glaubensgemeinschaft an. Die Mitgliederzahlen der Konfessionen erreichten 2019 einen neuen Tiefpunkt. Die Zahl der Katholiken war erstmals unter 55 % gesunken und 10,4 % der Straubinger waren evangelisch.'),\n",
       "  0.46798024695328766),\n",
       " (Document(page_content='Paris\\n\\n=== Religionen ===\\nEtwa 65 % der Einwohner sind getauft, rund 60 % bekennen sich zum römisch-katholischen Glauben, die meisten praktizieren den lateinischen Ritus, einige wenige auch den armenischen und ukrainischen Ritus. Der Erzbischof von Paris ist auch für die Katholiken der östlichen Riten zuständig. Insgesamt gibt es in Paris innerhalb der politischen Grenzen der Stadt 94 katholische Gemeinden, des Weiteren 73 protestantische Kirchen der verschiedensten Konfessionen, 15 griechisch- und russisch-orthodoxe Kirchen, sechs rumänisch-orthodoxe Kirchen, sieben Synagogen für die etwa 220.000 Juden und 19 Moscheen für die rund 80.000 Muslime, überwiegend Sunniten. Nur knapp 12 % der Christen und etwa 15 % der Juden sind praktizierende Gläubige.'),\n",
       "  0.4527544029007876),\n",
       " (Document(page_content=\"Religionen_in_Deutschland\\n\\n=== Baptisten ===\\nOrganisiert sind die autonomen Baptistengemeinden in Deutschland im Bund Evangelisch-Freikirchlicher Gemeinden. Daneben gibt es sogenannte ''Freie Baptistengemeinden'', die keinem übergeordneten Bund angehören und lediglich lockeren Kontakt untereinander pflegen. Dazu gehören unter anderem die Reformierten Baptisten, die Bibel-Baptisten, sowie eine größere Anzahl von Baptistengemeinden mit russlanddeutschem Hintergrund.\\nDie Baptisten existieren seit 1834 in Deutschland. Der Baptismus verbreitete sich in Deutschland und Kontinentaleuropa vor allem durch den aus Varel stammenden Kaufmann und späteren Baptistenprediger Johann Gerhard Oncken, der in einer methodistischen Gemeinde in England seine Bekehrung erlebt hatte.\\nSeit der Öffnung des Eisernen Vorhangs wanderten viele Deutsche aus den Staaten der ehemaligen Sowjetunion nach Deutschland ein (Russlanddeutsche, Kasachstandeutsche, Kirgisistandeutsche). Zu einem größeren Teil waren sie Evangeliumschristen-Baptisten. Eine Integration in die bestehenden deutschen Gemeinden gelang nur in der Anfangsphase. Sie gründeten alsbald eigene Gemeinden und verschiedene übergemeindliche Zusammenschlüsse. Allerdings gibt es auch in einheimischen Baptistengemeinden Russlanddeutsche, die dort auf Dauer eine geistliche Heimat gefunden haben.\\nSeit der Nachkriegszeit finden sich in Deutschland auch amerikanische Baptistengemeinden, die von Helfern oder Soldaten der U.S. Army gegründet wurden. Sie sind zum Teil assoziierte Mitglieder des deutschen Bundes Evangelisch-Freikirchlicher Gemeinden und Vollmitglieder der Europäisch-Baptistischen Föderation.\"),\n",
       "  0.3712969780495402),\n",
       " (Document(page_content='Zentralafrikanische_Republik\\n\\n=== Religionen ===\\nGemäß der Volkszählung 2003 sind nur noch rund 9,6 % der Einwohner offiziell Anhänger der indigenen Glaubensrichtungen. Christen bilden etwa 50 % der Bevölkerung; sie sind etwa zur Hälfte evangelisch und katholisch und besonders stark vertreten an der Grenze zur Demokratischen Republik Kongo. Der sunnitische Islam wird von 10,1 % der Bevölkerung praktiziert (mit zunehmender Tendenz) und ist vor allem im Norden, Osten und Nordwesten verbreitet.\\nSeit der Kolonialzeit agieren viele Missionarsgruppen im Land, vor allem Lutheraner und Katholiken, aber auch Baptisten, Grace Brethren und Zeugen Jehovas. Während diese Missionare vorherrschend aus Frankreich, den Vereinigten Staaten, Italien und Spanien kommen, stammen viele Missionare auch aus Nigeria, der Demokratischen Republik Kongo und anderen schwarzafrikanischen Ländern. Viele westliche Missionare verließen das Land in den Jahren 2002/2003 aufgrund von Kämpfen zwischen Rebellen und Regierungstruppen.'),\n",
       "  0.36501052271304923)]"
      ]
     },
     "execution_count": 141,
     "metadata": {},
     "output_type": "execute_result"
    }
   ],
   "source": [
    "threshed = db.similarity_search_with_relevance_scores(answer, k=25, score_threshold=0.35)\n",
    "threshed"
   ]
  },
  {
   "cell_type": "code",
   "execution_count": 167,
   "metadata": {},
   "outputs": [
    {
     "data": {
      "text/plain": [
       "\"Strict_Baptists\\nDie Strict Baptists (deutsch etwa: strikte, strenge Baptisten) sind eine lose Vereinigung von Baptisten mit etwa 6000 Mitgliedern in Großbritannien. Manchmal wird die Bezeichnung ''Gospel Standard Baptists'' verwendet. Die einzelnen Gemeinden sind relativ selbständig, so dass es auch gewisse Unterschiede in Lehre und Praxis geben kann. Sie gehören zur calvinistischen Richtung der ''Particular Baptists'', die im Unterschied zu den ''General Baptists'' nicht von einem universalen Heilswillen Gottes ausgehen. Die gemeinsame Feier des Herrenmahls findet in geschlossener Form statt (''strict'' oder ''closed communion''), d.\\xa0h. nur die eigenen, getauften Mitglieder sind zugelassen. Diese ursprünglich sehr verbreitete enge Praxis wurde auch noch von Johann Gerhard Oncken (in Deutschland) aufrechterhalten, während Charles Haddon Spurgeon eine calvinistische Heilslehre mit einer offenen Herrenmahlpraxis verband. Ähnlich öffneten sich im 19. Jahrhundert viele Baptistengemeinden, und im 20. Jahrhundert standen im Kirchenleben andere Themen im Vordergrund, so dass sich diese enge Praxis nur noch bei einer kleinen Minderheit findet.\\nDas soziale Leben dieser Baptisten spielt sich zum größten Teil untereinander ab. Sonntäglich finden zwei Gottesdienste statt, in denen die Wortverkündigung zentral ist. Der Kirchenbesuch ist überdurchschnittlich.\\nÄhnliche Gruppen in den USA werden dort als ''Reformed Baptists'' oder ''Sovereign Grace Baptists'' bezeichnet.\""
      ]
     },
     "execution_count": 167,
     "metadata": {},
     "output_type": "execute_result"
    }
   ],
   "source": [
    "def find_easy_negs(data_instance, vector_store, n=1):\n",
    "    reference = data_instance[\"answer\"]\n",
    "    contexts = set(data_instance[\"contexts\"]) # faster in lookup\n",
    "    \n",
    "    relevant_docs = vector_store.similarity_search_with_relevance_scores(reference, k=20)\n",
    "    \n",
    "    # filter out docs which are in contexts\n",
    "    relevant_docs = [doc for doc in relevant_docs if doc[0].page_content not in contexts]\n",
    "    \n",
    "    \n",
    "    scores = torch.tensor([d[1] for d in relevant_docs])\n",
    "    probas = scores.softmax(dim=-1)\n",
    "    sampled = torch.multinomial(probas, num_samples=n)\n",
    "    \n",
    "    idx = sampled.item()\n",
    "    \n",
    "    return relevant_docs[idx][0].page_content\n",
    "\n",
    "find_easy_negs(dataset[0], db)\n"
   ]
  },
  {
   "cell_type": "code",
   "execution_count": null,
   "metadata": {},
   "outputs": [],
   "source": []
  }
 ],
 "metadata": {
  "kernelspec": {
   "display_name": "venv",
   "language": "python",
   "name": "python3"
  },
  "language_info": {
   "codemirror_mode": {
    "name": "ipython",
    "version": 3
   },
   "file_extension": ".py",
   "mimetype": "text/x-python",
   "name": "python",
   "nbconvert_exporter": "python",
   "pygments_lexer": "ipython3",
   "version": "3.10.12"
  }
 },
 "nbformat": 4,
 "nbformat_minor": 2
}
