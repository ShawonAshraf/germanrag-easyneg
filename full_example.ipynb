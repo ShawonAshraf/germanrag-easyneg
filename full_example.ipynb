{
 "cells": [
  {
   "cell_type": "markdown",
   "metadata": {},
   "source": [
    "### Dataset"
   ]
  },
  {
   "cell_type": "code",
   "execution_count": 1,
   "metadata": {},
   "outputs": [
    {
     "name": "stderr",
     "output_type": "stream",
     "text": [
      "Using the latest cached version of the dataset since DiscoResearch/germanrag couldn't be found on the Hugging Face Hub\n",
      "Found the latest cached dataset configuration 'default' at /home/shawon/.cache/huggingface/datasets/DiscoResearch___germanrag/default/0.0.0/dcaafc4bf5b44c96a1ced56c0a7d42da5a3a2c45 (last modified on Mon Feb 26 23:09:34 2024).\n"
     ]
    }
   ],
   "source": [
    "from datasets import load_dataset\n",
    "\n",
    "DATASET_NAME = \"DiscoResearch/germanrag\"\n",
    "dataset = load_dataset(DATASET_NAME, split=\"train\")"
   ]
  },
  {
   "cell_type": "markdown",
   "metadata": {},
   "source": [
    "### Find all unique contexts"
   ]
  },
  {
   "cell_type": "code",
   "execution_count": 2,
   "metadata": {},
   "outputs": [
    {
     "data": {
      "application/vnd.jupyter.widget-view+json": {
       "model_id": "0c2a42a7e05349e3ab0029db45b29044",
       "version_major": 2,
       "version_minor": 0
      },
      "text/plain": [
       "  0%|          | 0/3362 [00:00<?, ?it/s]"
      ]
     },
     "metadata": {},
     "output_type": "display_data"
    }
   ],
   "source": [
    "from tqdm.autonotebook import tqdm\n",
    "\n",
    "unique_contexts = set()\n",
    "for _, d in tqdm(enumerate(dataset), total=len(dataset)):\n",
    "    for ctx in d[\"contexts\"]:\n",
    "        unique_contexts.add(ctx)"
   ]
  },
  {
   "cell_type": "markdown",
   "metadata": {},
   "source": [
    "### Easy Negative Finder"
   ]
  },
  {
   "cell_type": "code",
   "execution_count": 3,
   "metadata": {},
   "outputs": [
    {
     "name": "stderr",
     "output_type": "stream",
     "text": [
      "\u001b[32m2024-02-28 22:32:40.810\u001b[0m | \u001b[1mINFO    \u001b[0m | \u001b[36m__main__\u001b[0m:\u001b[36m<module>\u001b[0m:\u001b[36m10\u001b[0m - \u001b[1mCreating Finder Object\u001b[0m\n",
      "\u001b[32m2024-02-28 22:32:40.811\u001b[0m | \u001b[1mINFO    \u001b[0m | \u001b[36msrc.docs\u001b[0m:\u001b[36m__load_embedding_model\u001b[0m:\u001b[36m18\u001b[0m - \u001b[1mInitialising Embeddings with model ::sentence-transformers/distiluse-base-multilingual-cased-v2\u001b[0m\n",
      "\u001b[32m2024-02-28 22:34:53.659\u001b[0m | \u001b[32m\u001b[1mSUCCESS \u001b[0m | \u001b[36msrc.docs\u001b[0m:\u001b[36m__load_embedding_model\u001b[0m:\u001b[36m23\u001b[0m - \u001b[32m\u001b[1mDone\u001b[0m\n"
     ]
    }
   ],
   "source": [
    "from src.docs import EasyNegativeFinder\n",
    "from loguru import logger\n",
    "import torch\n",
    "\n",
    "model_name = \"sentence-transformers/distiluse-base-multilingual-cased-v2\"\n",
    "device = \"cuda\" if torch.cuda.is_available() else \"cpu\"\n",
    "# path to persist the vector store\n",
    "dpath = \"./persisted_data\"\n",
    "\n",
    "logger.info(\"Creating Finder Object\")\n",
    "finder = EasyNegativeFinder(model_name, device, dpath)"
   ]
  },
  {
   "cell_type": "code",
   "execution_count": 4,
   "metadata": {},
   "outputs": [
    {
     "name": "stderr",
     "output_type": "stream",
     "text": [
      "\u001b[32m2024-02-28 22:34:53.708\u001b[0m | \u001b[1mINFO    \u001b[0m | \u001b[36msrc.docs\u001b[0m:\u001b[36minit_vector_store\u001b[0m:\u001b[36m32\u001b[0m - \u001b[1mPopulating Vector Store\u001b[0m\n",
      "\u001b[32m2024-02-28 22:34:53.709\u001b[0m | \u001b[1mINFO    \u001b[0m | \u001b[36msrc.docs\u001b[0m:\u001b[36minit_vector_store\u001b[0m:\u001b[36m33\u001b[0m - \u001b[1mPersisted @ :: ./persisted_data\u001b[0m\n",
      "\u001b[32m2024-02-28 22:35:10.774\u001b[0m | \u001b[32m\u001b[1mSUCCESS \u001b[0m | \u001b[36msrc.docs\u001b[0m:\u001b[36minit_vector_store\u001b[0m:\u001b[36m37\u001b[0m - \u001b[32m\u001b[1mDone\u001b[0m\n"
     ]
    }
   ],
   "source": [
    "# init vector store\n",
    "finder.init_vector_store(list(unique_contexts))"
   ]
  },
  {
   "cell_type": "markdown",
   "metadata": {},
   "source": [
    "### Prepare dataset in the desired format"
   ]
  },
  {
   "cell_type": "code",
   "execution_count": 6,
   "metadata": {},
   "outputs": [
    {
     "name": "stderr",
     "output_type": "stream",
     "text": [
      "\u001b[32m2024-02-28 22:35:41.087\u001b[0m | \u001b[1mINFO    \u001b[0m | \u001b[36msrc.dataset\u001b[0m:\u001b[36mprepare_entire_dataset\u001b[0m:\u001b[36m57\u001b[0m - \u001b[1mConverting Dataset into JSONL format\u001b[0m\n"
     ]
    },
    {
     "data": {
      "application/vnd.jupyter.widget-view+json": {
       "model_id": "fe494c6a23f947f5ba45b844f36661fc",
       "version_major": 2,
       "version_minor": 0
      },
      "text/plain": [
       "  0%|          | 0/3362 [00:00<?, ?it/s]"
      ]
     },
     "metadata": {},
     "output_type": "display_data"
    },
    {
     "name": "stderr",
     "output_type": "stream",
     "text": [
      "\u001b[32m2024-02-28 22:36:14.164\u001b[0m | \u001b[32m\u001b[1mSUCCESS \u001b[0m | \u001b[36msrc.dataset\u001b[0m:\u001b[36mprepare_entire_dataset\u001b[0m:\u001b[36m65\u001b[0m - \u001b[32m\u001b[1mDone\u001b[0m\n",
      "\u001b[32m2024-02-28 22:36:14.165\u001b[0m | \u001b[1mINFO    \u001b[0m | \u001b[36m__main__\u001b[0m:\u001b[36m<module>\u001b[0m:\u001b[36m4\u001b[0m - \u001b[1mSize of the prepared dataset : 11197\u001b[0m\n"
     ]
    }
   ],
   "source": [
    "from src.dataset import prepare_entire_dataset\n",
    "\n",
    "prepared_dataset = prepare_entire_dataset(dataset, finder)\n",
    "logger.info(f\"Size of the prepared dataset : {len(prepared_dataset)}\")"
   ]
  },
  {
   "cell_type": "code",
   "execution_count": 7,
   "metadata": {},
   "outputs": [
    {
     "data": {
      "text/plain": [
       "[{'context': 'Gott\\n\\n=== Demografie ===\\nEine Zusammenfassung von Umfrageergebnissen aus verschiedenen Staaten ergab im Jahr 2007, dass es weltweit zwischen 505 und 749 Millionen Atheisten und Agnostiker gibt. Laut der Encyclopædia Britannica gab es 2009 weltweit 640 Mio. Nichtreligiöse und Agnostiker (9,4 %), und weitere 139 Mio. Atheisten (2,0 %), hauptsächlich in der Volksrepublik China.\\nBei einer Eurobarometer-Umfrage im Jahr 2005 wurde festgestellt, dass 52 % der damaligen EU-Bevölkerung glaubt, dass es einen Gott gibt. Eine vagere Frage nach dem Glauben an „eine andere spirituelle Kraft oder Lebenskraft“ wurde von weiteren 27 % positiv beantwortet. Bezüglich der Gottgläubigkeit bestanden große Unterschiede zwischen den einzelnen europäischen Staaten. Die Umfrage ergab, dass der Glaube an Gott in Staaten mit starkem kirchlichen Einfluss am stärksten verbreitet ist, dass mehr Frauen (58 %) als Männer (45 %) an einen Gott glauben und dass der Gottglaube mit höherem Alter, geringerer Bildung und politisch rechtsgerichteten Ansichten korreliert.\\nLaut einer Befragung von 1003 Personen in Deutschland im März 2019 glauben 55 % an einen Gott; 2005 waren es 66 % gewesen. 75 % der befragten Katholiken sowie 67 % der Protestanten glaubten an einen Gott (2005: 85 % und 79 %). Unter Konfessionslosen ging die Glaubensquote von 28 auf 20 % zurück. Unter Frauen (60 %) war der Glauben 2019 stärker ausgeprägt als unter Männern (50 %), in Westdeutschland (63 %) weiter verbreitet als in Ostdeutschland (26 %).',\n",
       "  'question': 'Wie viele christlichen Menschen in Deutschland glauben an einen Gott?',\n",
       "  'answer': 'In Deutschland glauben 75 % der befragten Katholiken und 67 % der Protestanten an einen Gott.'},\n",
       " {'context': \"Religionen_in_Deutschland\\n\\n=== Baptisten ===\\nOrganisiert sind die autonomen Baptistengemeinden in Deutschland im Bund Evangelisch-Freikirchlicher Gemeinden. Daneben gibt es sogenannte ''Freie Baptistengemeinden'', die keinem übergeordneten Bund angehören und lediglich lockeren Kontakt untereinander pflegen. Dazu gehören unter anderem die Reformierten Baptisten, die Bibel-Baptisten, sowie eine größere Anzahl von Baptistengemeinden mit russlanddeutschem Hintergrund.\\nDie Baptisten existieren seit 1834 in Deutschland. Der Baptismus verbreitete sich in Deutschland und Kontinentaleuropa vor allem durch den aus Varel stammenden Kaufmann und späteren Baptistenprediger Johann Gerhard Oncken, der in einer methodistischen Gemeinde in England seine Bekehrung erlebt hatte.\\nSeit der Öffnung des Eisernen Vorhangs wanderten viele Deutsche aus den Staaten der ehemaligen Sowjetunion nach Deutschland ein (Russlanddeutsche, Kasachstandeutsche, Kirgisistandeutsche). Zu einem größeren Teil waren sie Evangeliumschristen-Baptisten. Eine Integration in die bestehenden deutschen Gemeinden gelang nur in der Anfangsphase. Sie gründeten alsbald eigene Gemeinden und verschiedene übergemeindliche Zusammenschlüsse. Allerdings gibt es auch in einheimischen Baptistengemeinden Russlanddeutsche, die dort auf Dauer eine geistliche Heimat gefunden haben.\\nSeit der Nachkriegszeit finden sich in Deutschland auch amerikanische Baptistengemeinden, die von Helfern oder Soldaten der U.S. Army gegründet wurden. Sie sind zum Teil assoziierte Mitglieder des deutschen Bundes Evangelisch-Freikirchlicher Gemeinden und Vollmitglieder der Europäisch-Baptistischen Föderation.\",\n",
       "  'question': 'Wie viele christlichen Menschen in Deutschland glauben an einen Gott?',\n",
       "  'answer': 'Bei dem gegebenen Kontext ist keine Antwort möglich.'},\n",
       " {'context': 'Glühlampe\\n\\n=== Lichtmodulation ===\\nAufgrund der thermischen Trägheit des Glühfadens weisen auch an netz- bzw. niederfrequenter Wechselspannung betriebene Glühlampen nur geringe Schwankungen der Helligkeit auf. Die Helligkeitsmodulation mit der doppelten Betriebsfrequenz ist umso stärker, je dünner der Glühfaden ist. Sie ist also besonders bei Lampen geringer Leistung für Netzspannung ausgeprägt und beträgt bei einer Glühlampe 15\\xa0W und 230\\xa0V etwa 30 %.\\nInsbesondere Kleinspannungsglühlampen gelten aufgrund ihrer dicken, thermisch trägen Glühdrähte als flimmerfrei – ein Vorteil bei der Beleuchtung von rotierenden Maschinen. Glühlampen mit sehr dünnem Glühfaden für Betriebsströme von weniger als 0,1\\xa0A können mit Frequenzen bis zu einigen 100\\xa0Hz moduliert werden und wurden früher in Bastelprojekten zur optischen Sprachübertragung verwendet.',\n",
       "  'question': 'Wann werden Kleinspannungsglühlampen aufgrund ihrer Vorteile eingesetzt?',\n",
       "  'answer': 'Kleinspannungsglühlampen werden insbesondere bei der Beleuchtung von rotierenden Maschinen eingesetzt, da sie aufgrund ihrer dicken, thermisch trägen Glühdrähte als flimmerfrei gelten.'},\n",
       " {'context': 'Wasserwerfer\\n\\n== Einsatzprofil ==\\nLöschen einer brennenden Barrikade durch einen Wasserwerfer\\nWasserwerfer der französischen Polizei\\nWasserwerfer werden als Einsatzmittel zur Gefahrenabwehr vor allem bei Demonstrationen und Straßenschlachten eingesetzt, um größere Menschengruppen unter Kontrolle zu halten. Dies geschieht, um im Rahmen des unmittelbaren Zwangs Maßnahmen gewaltsam durchzusetzen. Wann dies geschehen darf, ist in Deutschland durch die Polizeidienstvorschrift PDV 122 eindeutig geregelt. Dies können auch Einsätze sein, deren Einsatzziel nicht mit personellen Mitteln allein oder nicht in der erforderlichen Zeit erbracht werden kann, wie das Räumen von Sitzblockaden. Weiterhin können Wasserwerfer auch in der Brandbekämpfung eingesetzt werden, etwa bei in Brand gesetzten Barrikaden oder aufgrund des meist vorhandenen Allradantriebs und ihrer Geländegängigkeit auch bei Waldbränden. In einigen Staaten verfügen diese Fahrzeuge über Räum- oder Absperrvorrichtungen.',\n",
       "  'question': 'Wann werden Kleinspannungsglühlampen aufgrund ihrer Vorteile eingesetzt?',\n",
       "  'answer': 'Bei dem gegebenen Kontext ist keine Antwort möglich.'},\n",
       " {'context': 'Lichtflimmern\\n\\n=== Glühlampe ===\\nBei einer Glühlampe dämpft die thermische Trägheit des Glühfadens dessen Temperatur und davon direkt abhängig das emittierte Licht. Ein Flimmern ist bei der Glühlampe zwar auch vorhanden, es fällt aber vergleichsweise gering und weich aus. Im Betrieb wird der Glühfaden bis zur Weißglut bei ca. 2500\\xa0°C erhitzt, und im Bereich des Nulldurchgangs (keine Stromversorgung) kühlt er etwas ab, was eine Lichtflimmeramplitude von etwa 5…20 % (je höher die Stromaufnahme, desto geringer das Flimmern) und eine Sinusform zur Folge hat. Erfahrungsgemäß hat das keinen Einfluss auf die Gesundheit des Menschen – für Arbeitsplätze an bewegten Maschinen sind Glühlampen grundsätzlich geeignet.',\n",
       "  'question': 'Wann werden Kleinspannungsglühlampen aufgrund ihrer Vorteile eingesetzt?',\n",
       "  'answer': 'Bei dem gegebenen Kontext ist keine Antwort möglich.'},\n",
       " {'context': \"IPod\\n\\n==== Product Red ====\\nAm 13.\\xa0Oktober 2006 wurde der ''iPod nano Product Red'' von U2-Frontmann Bono und der US-Talkmasterin Oprah Winfrey vorgestellt. Je verkauftem Gerät dieser Special Edition werden von Apple 10\\xa0$ an die HIV/AIDS-Hilfestiftung „Global Funds“ gespendet. Auch den am 12.\\xa0September 2006 vorgestellten iPod nano der zweiten Generation gibt es als ''Product-Red-''Edition, ebenso wie erstmals den iPod shuffle. Aktuell ist diese Farbe für den iPod nano (7. Generation), iPod touch (6. Generation) und den iPod shuffle (4. Generation) ausschließlich im Apple Online Store sowie im Apple Store verfügbar.\",\n",
       "  'question': 'Wie viel Speicherplatz hat der iPod der zweiten Generation?',\n",
       "  'answer': 'Bei dem gegebenen Kontext ist keine Antwort möglich.'},\n",
       " {'context': \"IPod\\n\\n====  Zweite Generation ====\\nAm 12.\\xa0September 2006 wurde der iPod shuffle der zweiten Generation von Steve Jobs vorgestellt. Den iPod shuffle gibt es seit dem 5.\\xa0September 2007 mit veränderten Farbtönen, die denen des iPod nano der dritten Generation entsprechen. Erstmals hat auch das kleinste Modell der iPod-Reihe eine ''Product-Red-Serie''. Seit dem 19. Februar 2008 gab es den iPod shuffle neben dem Modell mit 1\\xa0GB auch in einer 2-GB-Version. Am 9. September 2008 wurden die lieferbaren Farben des Shuffle geändert. Mit zum Lieferumfang gehört eine kleine Akku-Ladestation, die über den Kopfhöreranschluss des iPod shuffle angeschlossen wird. Auf der Gegenseite befinden sich zwei kleine Schalter, die zum Ein- bzw. Ausschalten und zum Wechsel zwischen den Funktionen „Shuffle“ und „In-Reihenfolge-spielen“ genutzt werden. Durch einen integrierten stabilen Clip lässt sich der iPod shuffle fast überall befestigen. Im Gegensatz zum Vorgänger ist sein Äußeres aus eloxiertem Aluminium gefertigt. Das Modell ist mit den Abmessungen von 27,3\\xa0× 41,2\\xa0× 10,5\\xa0mm (etwa die Größe der ''Apple Radio Remote,'' aber etwas dicker) und einem Gewicht von 15\\xa0Gramm kleiner und leichter als der Vorgänger und galt laut Apple als der derzeit kleinste Audio-Player weltweit.\",\n",
       "  'question': 'Wie viel Speicherplatz hat der iPod der zweiten Generation?',\n",
       "  'answer': 'Der iPod der zweiten Generation hat 2 GB Speicherplatz.'},\n",
       " {'context': \"IPod\\n\\n==== Sechste Generation (iPod classic) ====\\nDer nun ''iPod classic'' genannte iPod 6G wurde von Steve Jobs am 5.\\xa0September 2007 auf einer Sonderveranstaltung mit dem Namen ''The Beat Goes On'' in San Francisco vorgestellt. Er ist mit einer Speicherkapazität von 80 oder 160\\xa0GB in den Farben Silber und Space Grey erhältlich. Die Laufzeit des Akkus verlängerte sich im reinen Musikbetrieb auf 30\\xa0Stunden beim 80-GB-Modell, beziehungsweise 40\\xa0Stunden beim 160-GB-Modell. Die Schale besteht aus Metall und ist zu den Seiten hin leicht abgeflacht. Außerdem ist das dreidimensionale Blättern durch Albencover möglich, genannt Cover Flow. Im Hauptmenü ist die Anzeige nun geteilt und zeigt links die Menüpunkte und rechts verschiedene Einblendungen wie Musik, Video und Extras. Mit der Generation 6.1 wurde er mit 120\\xa0GB Speicherplatz angeboten und verfügt über die ''Genius''-Funktionalität, bei der Wiedergabelisten mit „gut zueinander passenden Titeln“ erstellt werden können (Apple-Aussage: ''Songs that go great together'').\\nDie Generation 6.2, die seit dem 9.\\xa0September 2009 erhältlich war, wurde ausschließlich mit 160\\xa0GB Speicherplatz angeboten. Der offizielle Verkauf des iPod Classic wurde am 9.\\xa0September 2014 eingestellt.\\n   IPod 1G.jpg|iPod (1.\\xa0Generation)\\n   IPod 2G.jpg|iPod (2.\\xa0Generation)\\n   3G ipod in dock.jpg|iPod (3.\\xa0Generation) im Dock\\n   IPodphoto2.jpg|iPod photo 60\\xa0GB\\n   Ipod 5th Generation white rotated.png|iPod (5.\\xa0Generation)\\n   IPod classic.png|iPod classic (6.\\xa0Generation)\",\n",
       "  'question': 'Wie viel Speicherplatz hat der iPod der zweiten Generation?',\n",
       "  'answer': 'Bei dem gegebenen Kontext ist keine Antwort möglich.'},\n",
       " {'context': \"IPod\\n\\n==== Dritte Generation ====\\nAm 11.\\xa0März 2009 wurde der iPod shuffle der dritten Generation vorgestellt. Diesen gibt es wahlweise mit 2\\xa0oder 4\\xa0GB Speicher. Er lässt sich nur noch durch die mitgelieferte Kopfhörerfernbedienung steuern. Seit dem 9.\\xa0September 2009 ist der iPod shuffle außer in Schwarz und Silber auch in den Farben Blau, Grün und Pink erhältlich, sowie in einer 2-GB-Version. Es gibt zudem noch eine Sonderedition aus poliertem Edelstahl; dieser verfügt über 4\\xa0GB Speicherkapazität und ist ausschließlich im Apple Store erhältlich. Neu bei den Modellen der dritten Generation ist zudem eine VoiceOver genannte Funktionalität, die auf Knopfdruck an der Kopfhörerfernbedienung den aktuell gespielten Interpreten, den Titel sowie die Wiedergabeliste nennt. Die Sprachsynthese findet dabei auf dem Rechner statt, nicht auf dem iPod. Die Ansagen werden in der gewünschten Sprache als AAC-Dateien erzeugt und bei der Synchronisation auf den iPod kopiert. Mit ihrer Einführung war die Funktion in 14 Sprachen verfügbar. Die eingesetzte Stimme ist unter ''Windows'' und ''Mac OS X Tiger'' weiblich, unter ''Mac OS X Leopard'' männlich.\",\n",
       "  'question': 'Wie viel Speicherplatz hat der iPod der zweiten Generation?',\n",
       "  'answer': 'Bei dem gegebenen Kontext ist keine Antwort möglich.'},\n",
       " {'context': \"Swissness\\nSIGG-Flasche mit Schweizerkreuz\\nSchweizer Schokolade mit Schweizer Flagge (rechts)\\nDer Begriff Swissness (Marke Schweiz, in der Romandie auch ''suissitude'' genannt) ist ein zum Ende der 1990er Jahre in der Schweiz aufgekommener scheinanglizistischer Neologismus. Der Modebegriff postuliert die Dachmarkenstrategie, die Schweiz wirtschaftlich als trendige Marke zu positionieren. Die positiv konnotierten Attribute Fairness, Präzision, Zuverlässigkeit, politische Stabilität, Natürlichkeit und Sauberkeit sollen in einem Begriff zusammengefasst und als typisch schweizerisch insbesondere auch im Ausland vermarktet werden.\",\n",
       "  'question': 'Welches Softgetränk ist typisch für die Schweiz?',\n",
       "  'answer': 'Bei dem gegebenen Kontext ist keine Antwort möglich.'}]"
      ]
     },
     "execution_count": 7,
     "metadata": {},
     "output_type": "execute_result"
    }
   ],
   "source": [
    "prepared_dataset[:10]"
   ]
  },
  {
   "cell_type": "markdown",
   "metadata": {},
   "source": [
    "### Next Steps\n",
    "\n",
    "Write the prepared dataset to disk so that it can be used later. Another approach\n",
    "can be to find easy negatives on demand in a data loading pipeline so that instead of finding all easy negatives in one pass, we only find easy negatives for data instances\n",
    "from the dataset we currently need. "
   ]
  },
  {
   "cell_type": "markdown",
   "metadata": {},
   "source": []
  }
 ],
 "metadata": {
  "kernelspec": {
   "display_name": "venv",
   "language": "python",
   "name": "python3"
  },
  "language_info": {
   "codemirror_mode": {
    "name": "ipython",
    "version": 3
   },
   "file_extension": ".py",
   "mimetype": "text/x-python",
   "name": "python",
   "nbconvert_exporter": "python",
   "pygments_lexer": "ipython3",
   "version": "3.10.12"
  }
 },
 "nbformat": 4,
 "nbformat_minor": 2
}
