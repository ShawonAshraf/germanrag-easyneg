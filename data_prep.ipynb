{
 "cells": [
  {
   "cell_type": "code",
   "execution_count": 1,
   "metadata": {},
   "outputs": [],
   "source": [
    "import torch\n",
    "from datasets import load_dataset\n",
    "\n",
    "DATASET_NAME = \"DiscoResearch/germanrag\"\n",
    "\n",
    "dataset = load_dataset(DATASET_NAME, split=\"train\")"
   ]
  },
  {
   "cell_type": "code",
   "execution_count": 2,
   "metadata": {},
   "outputs": [
    {
     "name": "stdout",
     "output_type": "stream",
     "text": [
      "dict_keys(['contexts', 'question', 'answer', 'positive_ctx_idx'])\n"
     ]
    }
   ],
   "source": [
    "print(dataset[0].keys())"
   ]
  },
  {
   "cell_type": "code",
   "execution_count": 4,
   "metadata": {},
   "outputs": [
    {
     "data": {
      "text/plain": [
       "{'context': 'a', 'question': 'b', 'answer': 'c'}"
      ]
     },
     "execution_count": 4,
     "metadata": {},
     "output_type": "execute_result"
    }
   ],
   "source": [
    "from dataclasses import dataclass\n",
    "\n",
    "@dataclass\n",
    "class DataEntry:\n",
    "    context: str\n",
    "    question: str\n",
    "    answer: str\n",
    "    \n",
    "d = DataEntry(\"a\", \"b\", \"c\")\n",
    "d.__dict__"
   ]
  },
  {
   "cell_type": "code",
   "execution_count": 24,
   "metadata": {},
   "outputs": [],
   "source": [
    "def prepare_jsonl_from_data_instance(data_instance):\n",
    "    contexts = data_instance[\"contexts\"]\n",
    "    question = data_instance[\"question\"]\n",
    "    answer = data_instance[\"answer\"]\n",
    "    pos_ctx_idx = data_instance[\"positive_ctx_idx\"]\n",
    "    pos_ctx= contexts[pos_ctx_idx]\n",
    "    \n",
    "    \n",
    "    new_entries = list()\n",
    "    \n",
    "    for ctx in contexts:\n",
    "        if ctx == pos_ctx:\n",
    "            new_entry = DataEntry(ctx, question, answer)\n",
    "        else:\n",
    "            # no answer is possible\n",
    "            msg = \"Bei dem gegebenen Kontext ist keine Antwort möglich.\"\n",
    "            new_entry = DataEntry(ctx, question, msg)\n",
    "        \n",
    "        new_entries.append(new_entry.__dict__)\n",
    "            \n",
    "    return new_entries"
   ]
  },
  {
   "cell_type": "code",
   "execution_count": 6,
   "metadata": {},
   "outputs": [
    {
     "name": "stderr",
     "output_type": "stream",
     "text": [
      "\u001b[32m2024-02-28 21:40:12.898\u001b[0m | \u001b[1mINFO    \u001b[0m | \u001b[36msrc.docs\u001b[0m:\u001b[36m__load_embedding_model\u001b[0m:\u001b[36m18\u001b[0m - \u001b[1mInitialising Embeddings with model ::sentence-transformers/distiluse-base-multilingual-cased-v2\u001b[0m\n",
      "\u001b[32m2024-02-28 21:40:17.154\u001b[0m | \u001b[32m\u001b[1mSUCCESS \u001b[0m | \u001b[36msrc.docs\u001b[0m:\u001b[36m__load_embedding_model\u001b[0m:\u001b[36m23\u001b[0m - \u001b[32m\u001b[1mDone\u001b[0m\n"
     ]
    }
   ],
   "source": [
    "from src.docs import EasyNegativeFinder\n",
    "\n",
    "finder = EasyNegativeFinder(\"sentence-transformers/distiluse-base-multilingual-cased-v2\", \"cuda\", \"./persisted_data\")"
   ]
  },
  {
   "cell_type": "code",
   "execution_count": 7,
   "metadata": {},
   "outputs": [],
   "source": [
    "data_instance = dataset[0]"
   ]
  },
  {
   "cell_type": "code",
   "execution_count": 11,
   "metadata": {},
   "outputs": [
    {
     "data": {
      "application/vnd.jupyter.widget-view+json": {
       "model_id": "d13abe579c24441388d06a6223282636",
       "version_major": 2,
       "version_minor": 0
      },
      "text/plain": [
       "0it [00:00, ?it/s]"
      ]
     },
     "metadata": {},
     "output_type": "display_data"
    }
   ],
   "source": [
    "from tqdm.auto import tqdm\n",
    "\n",
    "unique_contexts = set()\n",
    "for _, d in tqdm(enumerate(dataset)):\n",
    "    for ctx in d[\"contexts\"]:\n",
    "        unique_contexts.add(ctx)"
   ]
  },
  {
   "cell_type": "code",
   "execution_count": 12,
   "metadata": {},
   "outputs": [
    {
     "name": "stderr",
     "output_type": "stream",
     "text": [
      "\u001b[32m2024-02-28 21:43:43.888\u001b[0m | \u001b[1mINFO    \u001b[0m | \u001b[36msrc.docs\u001b[0m:\u001b[36minit_vector_store\u001b[0m:\u001b[36m27\u001b[0m - \u001b[1mPopulating Vector Store\u001b[0m\n",
      "\u001b[32m2024-02-28 21:43:43.889\u001b[0m | \u001b[1mINFO    \u001b[0m | \u001b[36msrc.docs\u001b[0m:\u001b[36minit_vector_store\u001b[0m:\u001b[36m28\u001b[0m - \u001b[1mPersisted @ :: ./persisted_data\u001b[0m\n",
      "\u001b[32m2024-02-28 21:44:03.036\u001b[0m | \u001b[32m\u001b[1mSUCCESS \u001b[0m | \u001b[36msrc.docs\u001b[0m:\u001b[36minit_vector_store\u001b[0m:\u001b[36m32\u001b[0m - \u001b[32m\u001b[1mDone\u001b[0m\n"
     ]
    }
   ],
   "source": [
    "finder.init_vector_store(list(unique_contexts))"
   ]
  },
  {
   "cell_type": "code",
   "execution_count": 13,
   "metadata": {},
   "outputs": [],
   "source": [
    "easy_neg = finder.find_easy_negs_for(data_instance)"
   ]
  },
  {
   "cell_type": "code",
   "execution_count": 14,
   "metadata": {},
   "outputs": [
    {
     "data": {
      "text/plain": [
       "\"Religionen_in_Deutschland\\n\\n=== Baptisten ===\\nOrganisiert sind die autonomen Baptistengemeinden in Deutschland im Bund Evangelisch-Freikirchlicher Gemeinden. Daneben gibt es sogenannte ''Freie Baptistengemeinden'', die keinem übergeordneten Bund angehören und lediglich lockeren Kontakt untereinander pflegen. Dazu gehören unter anderem die Reformierten Baptisten, die Bibel-Baptisten, sowie eine größere Anzahl von Baptistengemeinden mit russlanddeutschem Hintergrund.\\nDie Baptisten existieren seit 1834 in Deutschland. Der Baptismus verbreitete sich in Deutschland und Kontinentaleuropa vor allem durch den aus Varel stammenden Kaufmann und späteren Baptistenprediger Johann Gerhard Oncken, der in einer methodistischen Gemeinde in England seine Bekehrung erlebt hatte.\\nSeit der Öffnung des Eisernen Vorhangs wanderten viele Deutsche aus den Staaten der ehemaligen Sowjetunion nach Deutschland ein (Russlanddeutsche, Kasachstandeutsche, Kirgisistandeutsche). Zu einem größeren Teil waren sie Evangeliumschristen-Baptisten. Eine Integration in die bestehenden deutschen Gemeinden gelang nur in der Anfangsphase. Sie gründeten alsbald eigene Gemeinden und verschiedene übergemeindliche Zusammenschlüsse. Allerdings gibt es auch in einheimischen Baptistengemeinden Russlanddeutsche, die dort auf Dauer eine geistliche Heimat gefunden haben.\\nSeit der Nachkriegszeit finden sich in Deutschland auch amerikanische Baptistengemeinden, die von Helfern oder Soldaten der U.S. Army gegründet wurden. Sie sind zum Teil assoziierte Mitglieder des deutschen Bundes Evangelisch-Freikirchlicher Gemeinden und Vollmitglieder der Europäisch-Baptistischen Föderation.\""
      ]
     },
     "execution_count": 14,
     "metadata": {},
     "output_type": "execute_result"
    }
   ],
   "source": [
    "easy_neg"
   ]
  },
  {
   "cell_type": "code",
   "execution_count": 15,
   "metadata": {},
   "outputs": [],
   "source": [
    "data_instance[\"contexts\"].append(easy_neg)"
   ]
  },
  {
   "cell_type": "code",
   "execution_count": 20,
   "metadata": {},
   "outputs": [
    {
     "data": {
      "text/plain": [
       "[{'context': 'Gott\\n\\n=== Demografie ===\\nEine Zusammenfassung von Umfrageergebnissen aus verschiedenen Staaten ergab im Jahr 2007, dass es weltweit zwischen 505 und 749 Millionen Atheisten und Agnostiker gibt. Laut der Encyclopædia Britannica gab es 2009 weltweit 640 Mio. Nichtreligiöse und Agnostiker (9,4 %), und weitere 139 Mio. Atheisten (2,0 %), hauptsächlich in der Volksrepublik China.\\nBei einer Eurobarometer-Umfrage im Jahr 2005 wurde festgestellt, dass 52 % der damaligen EU-Bevölkerung glaubt, dass es einen Gott gibt. Eine vagere Frage nach dem Glauben an „eine andere spirituelle Kraft oder Lebenskraft“ wurde von weiteren 27 % positiv beantwortet. Bezüglich der Gottgläubigkeit bestanden große Unterschiede zwischen den einzelnen europäischen Staaten. Die Umfrage ergab, dass der Glaube an Gott in Staaten mit starkem kirchlichen Einfluss am stärksten verbreitet ist, dass mehr Frauen (58 %) als Männer (45 %) an einen Gott glauben und dass der Gottglaube mit höherem Alter, geringerer Bildung und politisch rechtsgerichteten Ansichten korreliert.\\nLaut einer Befragung von 1003 Personen in Deutschland im März 2019 glauben 55 % an einen Gott; 2005 waren es 66 % gewesen. 75 % der befragten Katholiken sowie 67 % der Protestanten glaubten an einen Gott (2005: 85 % und 79 %). Unter Konfessionslosen ging die Glaubensquote von 28 auf 20 % zurück. Unter Frauen (60 %) war der Glauben 2019 stärker ausgeprägt als unter Männern (50 %), in Westdeutschland (63 %) weiter verbreitet als in Ostdeutschland (26 %).',\n",
       "  'question': 'Wie viele christlichen Menschen in Deutschland glauben an einen Gott?',\n",
       "  'answer': 'In Deutschland glauben 75 % der befragten Katholiken und 67 % der Protestanten an einen Gott.'},\n",
       " {'context': \"Religionen_in_Deutschland\\n\\n=== Baptisten ===\\nOrganisiert sind die autonomen Baptistengemeinden in Deutschland im Bund Evangelisch-Freikirchlicher Gemeinden. Daneben gibt es sogenannte ''Freie Baptistengemeinden'', die keinem übergeordneten Bund angehören und lediglich lockeren Kontakt untereinander pflegen. Dazu gehören unter anderem die Reformierten Baptisten, die Bibel-Baptisten, sowie eine größere Anzahl von Baptistengemeinden mit russlanddeutschem Hintergrund.\\nDie Baptisten existieren seit 1834 in Deutschland. Der Baptismus verbreitete sich in Deutschland und Kontinentaleuropa vor allem durch den aus Varel stammenden Kaufmann und späteren Baptistenprediger Johann Gerhard Oncken, der in einer methodistischen Gemeinde in England seine Bekehrung erlebt hatte.\\nSeit der Öffnung des Eisernen Vorhangs wanderten viele Deutsche aus den Staaten der ehemaligen Sowjetunion nach Deutschland ein (Russlanddeutsche, Kasachstandeutsche, Kirgisistandeutsche). Zu einem größeren Teil waren sie Evangeliumschristen-Baptisten. Eine Integration in die bestehenden deutschen Gemeinden gelang nur in der Anfangsphase. Sie gründeten alsbald eigene Gemeinden und verschiedene übergemeindliche Zusammenschlüsse. Allerdings gibt es auch in einheimischen Baptistengemeinden Russlanddeutsche, die dort auf Dauer eine geistliche Heimat gefunden haben.\\nSeit der Nachkriegszeit finden sich in Deutschland auch amerikanische Baptistengemeinden, die von Helfern oder Soldaten der U.S. Army gegründet wurden. Sie sind zum Teil assoziierte Mitglieder des deutschen Bundes Evangelisch-Freikirchlicher Gemeinden und Vollmitglieder der Europäisch-Baptistischen Föderation.\",\n",
       "  'question': 'Wie viele christlichen Menschen in Deutschland glauben an einen Gott?',\n",
       "  'answer': 'Bei dem gegebenen Kontext ist keine Antwort möglich'}]"
      ]
     },
     "execution_count": 20,
     "metadata": {},
     "output_type": "execute_result"
    }
   ],
   "source": [
    "prepare_jsonl_from_data_instance(data_instance)"
   ]
  },
  {
   "cell_type": "code",
   "execution_count": 31,
   "metadata": {},
   "outputs": [],
   "source": [
    "from typing import Any, List\n",
    "\n",
    "def prepare_entire_dataset(dataset: Any, finder: EasyNegativeFinder) -> List[DataEntry]:\n",
    "    prepared_dataset = list()\n",
    "\n",
    "    for _, data_instance in tqdm(enumerate(dataset), total=len(dataset)):\n",
    "        easy_neg = finder.find_easy_negs_for(data_instance)\n",
    "        data_instance[\"contexts\"].append(easy_neg)\n",
    "        \n",
    "        new_entries = prepare_jsonl_from_data_instance(data_instance)\n",
    "        prepared_dataset.extend(new_entries)\n",
    "        \n",
    "    return prepared_dataset"
   ]
  },
  {
   "cell_type": "code",
   "execution_count": 32,
   "metadata": {},
   "outputs": [
    {
     "data": {
      "application/vnd.jupyter.widget-view+json": {
       "model_id": "0748ec4921d34fdc92619247d8c45cc2",
       "version_major": 2,
       "version_minor": 0
      },
      "text/plain": [
       "  0%|          | 0/3362 [00:00<?, ?it/s]"
      ]
     },
     "metadata": {},
     "output_type": "display_data"
    }
   ],
   "source": [
    "prepared_dataset = prepare_entire_dataset(dataset, finder)"
   ]
  },
  {
   "cell_type": "code",
   "execution_count": 28,
   "metadata": {},
   "outputs": [
    {
     "data": {
      "text/plain": [
       "[{'context': 'Gott\\n\\n=== Demografie ===\\nEine Zusammenfassung von Umfrageergebnissen aus verschiedenen Staaten ergab im Jahr 2007, dass es weltweit zwischen 505 und 749 Millionen Atheisten und Agnostiker gibt. Laut der Encyclopædia Britannica gab es 2009 weltweit 640 Mio. Nichtreligiöse und Agnostiker (9,4 %), und weitere 139 Mio. Atheisten (2,0 %), hauptsächlich in der Volksrepublik China.\\nBei einer Eurobarometer-Umfrage im Jahr 2005 wurde festgestellt, dass 52 % der damaligen EU-Bevölkerung glaubt, dass es einen Gott gibt. Eine vagere Frage nach dem Glauben an „eine andere spirituelle Kraft oder Lebenskraft“ wurde von weiteren 27 % positiv beantwortet. Bezüglich der Gottgläubigkeit bestanden große Unterschiede zwischen den einzelnen europäischen Staaten. Die Umfrage ergab, dass der Glaube an Gott in Staaten mit starkem kirchlichen Einfluss am stärksten verbreitet ist, dass mehr Frauen (58 %) als Männer (45 %) an einen Gott glauben und dass der Gottglaube mit höherem Alter, geringerer Bildung und politisch rechtsgerichteten Ansichten korreliert.\\nLaut einer Befragung von 1003 Personen in Deutschland im März 2019 glauben 55 % an einen Gott; 2005 waren es 66 % gewesen. 75 % der befragten Katholiken sowie 67 % der Protestanten glaubten an einen Gott (2005: 85 % und 79 %). Unter Konfessionslosen ging die Glaubensquote von 28 auf 20 % zurück. Unter Frauen (60 %) war der Glauben 2019 stärker ausgeprägt als unter Männern (50 %), in Westdeutschland (63 %) weiter verbreitet als in Ostdeutschland (26 %).',\n",
       "  'question': 'Wie viele christlichen Menschen in Deutschland glauben an einen Gott?',\n",
       "  'answer': 'In Deutschland glauben 75 % der befragten Katholiken und 67 % der Protestanten an einen Gott.'},\n",
       " {'context': 'Hannover\\n\\n==== Konfessionsstatistik ====\\nGemäß der Volkszählung 2011 waren 34,7 % der Einwohner evangelisch, 13,7 % römisch-katholisch und 51,6 % waren konfessionslos, gehörten einer anderen Religionsgemeinschaft an oder machten keine Angabe. Nach einer Berechnung aus den Zensuszahlen für die Personen mit Migrationshintergrund lag der Bevölkerungsanteil der Muslime in Hannover 2011 bei 8,8 % (rund 44.400 Personen).\\nEnde 2019 waren 28,5 % der Bevölkerung Hannovers evangelisch und 12,4 % katholisch. Die Mehrheit mit 59,1 % gehört keiner der beiden großen christlichen Konfessionen an.\\nEin Jahr vorher am 30. Juni 2018 waren 29,5 Prozent der Bevölkerung Hannovers evangelisch und 13,0 Prozent katholisch.',\n",
       "  'question': 'Wie viele christlichen Menschen in Deutschland glauben an einen Gott?',\n",
       "  'answer': 'Bei dem gegebenen Kontext ist keine Antwort möglich.'},\n",
       " {'context': 'Glühlampe\\n\\n=== Lichtmodulation ===\\nAufgrund der thermischen Trägheit des Glühfadens weisen auch an netz- bzw. niederfrequenter Wechselspannung betriebene Glühlampen nur geringe Schwankungen der Helligkeit auf. Die Helligkeitsmodulation mit der doppelten Betriebsfrequenz ist umso stärker, je dünner der Glühfaden ist. Sie ist also besonders bei Lampen geringer Leistung für Netzspannung ausgeprägt und beträgt bei einer Glühlampe 15\\xa0W und 230\\xa0V etwa 30 %.\\nInsbesondere Kleinspannungsglühlampen gelten aufgrund ihrer dicken, thermisch trägen Glühdrähte als flimmerfrei – ein Vorteil bei der Beleuchtung von rotierenden Maschinen. Glühlampen mit sehr dünnem Glühfaden für Betriebsströme von weniger als 0,1\\xa0A können mit Frequenzen bis zu einigen 100\\xa0Hz moduliert werden und wurden früher in Bastelprojekten zur optischen Sprachübertragung verwendet.',\n",
       "  'question': 'Wann werden Kleinspannungsglühlampen aufgrund ihrer Vorteile eingesetzt?',\n",
       "  'answer': 'Kleinspannungsglühlampen werden insbesondere bei der Beleuchtung von rotierenden Maschinen eingesetzt, da sie aufgrund ihrer dicken, thermisch trägen Glühdrähte als flimmerfrei gelten.'},\n",
       " {'context': 'Wasserwerfer\\n\\n== Einsatzprofil ==\\nLöschen einer brennenden Barrikade durch einen Wasserwerfer\\nWasserwerfer der französischen Polizei\\nWasserwerfer werden als Einsatzmittel zur Gefahrenabwehr vor allem bei Demonstrationen und Straßenschlachten eingesetzt, um größere Menschengruppen unter Kontrolle zu halten. Dies geschieht, um im Rahmen des unmittelbaren Zwangs Maßnahmen gewaltsam durchzusetzen. Wann dies geschehen darf, ist in Deutschland durch die Polizeidienstvorschrift PDV 122 eindeutig geregelt. Dies können auch Einsätze sein, deren Einsatzziel nicht mit personellen Mitteln allein oder nicht in der erforderlichen Zeit erbracht werden kann, wie das Räumen von Sitzblockaden. Weiterhin können Wasserwerfer auch in der Brandbekämpfung eingesetzt werden, etwa bei in Brand gesetzten Barrikaden oder aufgrund des meist vorhandenen Allradantriebs und ihrer Geländegängigkeit auch bei Waldbränden. In einigen Staaten verfügen diese Fahrzeuge über Räum- oder Absperrvorrichtungen.',\n",
       "  'question': 'Wann werden Kleinspannungsglühlampen aufgrund ihrer Vorteile eingesetzt?',\n",
       "  'answer': 'Bei dem gegebenen Kontext ist keine Antwort möglich.'},\n",
       " {'context': 'Glühlampe\\n\\n=== Sockel ===\\nDer Sockel einer Glühlampe dient dazu, sie in einer Lampenfassung zu fixieren und elektrisch zu kontaktieren. Die Ausführung der Fassung beschränkt die zulässige Leistung und Stromaufnahme der darin betreibbaren Glühlampe. Leuchtenfassungen für E27-Allgebrauchslampen sind oft auf 60\\xa0W begrenzt.\\nSockellose Lampen besitzen nur Anschlussdrähte oder einen Quetschfuß ohne Stutzen zum Einstecken. Stecksockellampen tragen lediglich verstärkte Stifte am Quetschfuß. Traditionelle Glühlampen besitzen aus Blech gefertigte Edisonsockel, in die die Lampe eingekittet ist. Bei Projektionslampen (außer Halogen), Signallampen und solchen für Fahrzeugscheinwerfer ist der Sockel gegenüber dem Glühdraht exakt justiert. Die exakte Lage des Glühdrahtes erfordert die Verwendung von Bajonettsockeln.\\nIm Sockel von Allgebrauchslampen höherer Leistung (ab 40 oder 60\\xa0W) befindet sich eine Schmelzsicherung oder ein dafür geeignetes dünnes Drahtstück, um zu vermeiden, dass der beim Durchbrennen möglicherweise im Inneren der Lampe zündende Lichtbogen zum Auslösen der vorgeordneten Sicherung oder zum Bersten des Glaskolbens führt.',\n",
       "  'question': 'Wann werden Kleinspannungsglühlampen aufgrund ihrer Vorteile eingesetzt?',\n",
       "  'answer': 'Bei dem gegebenen Kontext ist keine Antwort möglich.'}]"
      ]
     },
     "execution_count": 28,
     "metadata": {},
     "output_type": "execute_result"
    }
   ],
   "source": [
    "prepared_dataset[:5]"
   ]
  },
  {
   "cell_type": "code",
   "execution_count": null,
   "metadata": {},
   "outputs": [],
   "source": []
  }
 ],
 "metadata": {
  "kernelspec": {
   "display_name": "venv",
   "language": "python",
   "name": "python3"
  },
  "language_info": {
   "codemirror_mode": {
    "name": "ipython",
    "version": 3
   },
   "file_extension": ".py",
   "mimetype": "text/x-python",
   "name": "python",
   "nbconvert_exporter": "python",
   "pygments_lexer": "ipython3",
   "version": "3.10.12"
  }
 },
 "nbformat": 4,
 "nbformat_minor": 2
}
